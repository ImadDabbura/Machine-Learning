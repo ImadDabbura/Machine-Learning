{
 "cells": [
  {
   "cell_type": "markdown",
   "metadata": {},
   "source": [
    "<h1 style=\"font-family: Georgia; font-size:3em;color:#2462C0; font-style:bold\">\n",
    "Neural Networks\n",
    "</h1><br>\n",
    "\n",
    "For this exercise we'll use Neural Network to recognize hand-written digits (0 to 9). The recognition of hand-written digits is a multi-class classification problem with $k = 10$ classes, i.e $y^i \\in \\{1, 2, 3, ..., 10\\}$. The *Neural Network* would have 3 layers: Input layer, Hidden layer, and Output layer. Since the images are of size 20 x 20 pixels, this gives us 400 input\n",
    "layer units (not counting the extra bias unit which always outputs +1). The hidden layer will be of size 25 $\\rightarrow$ 25 activation units. Finally, the output layer would have 10 nodes since we have 10 classes $\\rightarrow h_\\theta(x^i) \\in \\mathbb{R}^{10}$. As a result, we would have 2 parameters' matrices $\\Theta^{(1)}$ and $\\Theta^{(2)}$. We'll be using *Regularized Logistic Regression* on activation units.\n",
    "\n",
    "Below is our neural network figure:\n",
    "<img src = '../images/Neural Network Graph.PNG' style=\"width:600px;height:400px\">"
   ]
  },
  {
   "cell_type": "code",
   "execution_count": 1,
   "metadata": {
    "collapsed": true
   },
   "outputs": [],
   "source": [
    "# import libraries and set up notebook global style\n",
    "import pandas as pd\n",
    "import numpy as np\n",
    "import matplotlib.pyplot as plt\n",
    "import seaborn as sns\n",
    "from scipy.io import loadmat, whosmat # load Matlab files and inspect objects in those files before loading them\n",
    "import scipy.optimize as opt # use established optimization algorithms\n",
    " \n",
    "\n",
    "%matplotlib inline\n",
    "sns.set_context('notebook')\n",
    "plt.style.use('fivethirtyeight');"
   ]
  },
  {
   "cell_type": "markdown",
   "metadata": {},
   "source": [
    "<h2 style=\"font-family: Georgia; font-size:2em;color:purple; font-style:bold\">\n",
    "Functions\n",
    "</h2><br>\n",
    "Lets write the functions needed to implement our Neural Network."
   ]
  },
  {
   "cell_type": "code",
   "execution_count": 2,
   "metadata": {
    "collapsed": true
   },
   "outputs": [],
   "source": [
    "             #==========================================Functions=========================================#\n",
    "# Define fn that will randomly initializes parameter matrices\n",
    "def random_initialize_Thetas(input_layer_size, hidden_layer_size, output_layer_size):\n",
    "        '''\n",
    "        Assumes all arguments as integers\n",
    "        Returns two Theta matrices randomly selected where each theta_ij would fall within\n",
    "        [-epsilon, epsilon]\n",
    "        '''\n",
    "        epsilon_Theta1 = np.sqrt(6) / np.sqrt(input_layer_size + hidden_layer_size)\n",
    "        epsilon_Theta2 = np.sqrt(6) / np.sqrt((hidden_layer_size + 1) + output_layer_size)\n",
    "        Theta1_init = np.random.rand(hidden_layer_size, input_layer_size) * 2 * epsilon_Theta1 - epsilon_Theta1\n",
    "        Theta2_init = np.random.rand(output_layer_size, hidden_layer_size + 1) * 2 * epsilon_Theta2 - epsilon_Theta2\n",
    "\n",
    "        return Theta1_init, Theta2_init\n",
    "\n",
    "# Define sigmoid fn that would be applied on activation layers\n",
    "def sigmoid(z):\n",
    "    return 1 / (1 + np.exp(-z))\n",
    "\n",
    "# Define derivative of sigmoid fn w.r.t z\n",
    "def sigmoid_gradient(z):\n",
    "    '''\n",
    "    z: Activation layer\n",
    "    Return: derivative of the activation layer l w.r.t z(l)\n",
    "    '''\n",
    "    a = sigmoid(z)\n",
    "    return np.multiply(a, (1 - a))\n",
    "\n",
    "# compute forward propagation\n",
    "def fwd_propagate(X, Theta1, Theta2):\n",
    "    '''\n",
    "    X: feature matrix m x (n + 1)\n",
    "    Thetas: parameter matrices\n",
    "    Return: output layer (hypothesis) for all examples\n",
    "    '''\n",
    "    m = X.shape[0]\n",
    "    a1 = X \n",
    "    z2 = a1.dot(Theta1.T)\n",
    "    a2 = sigmoid(z2)\n",
    "    a2 = np.insert(a2, 0, np.ones(m), axis= 1) # Add bias unit\n",
    "    z3 = a2.dot(Theta2.T)\n",
    "    a3 = sigmoid(z3)\n",
    "\n",
    "    return a3\n",
    "\n",
    "# compute regularized cost function\n",
    "def costFunction(Theta, X, y, lambda_, input_layer_size, hidden_layer_size, output_layer_size):\n",
    "    '''\n",
    "    Theta: parameters vector\n",
    "    X: feature matrix\n",
    "    y: label vector\n",
    "    lambda_: shrinkage parameter\n",
    "    Return: cost --> scalar\n",
    "    '''\n",
    "    # Reshape Theta Vector\n",
    "    Theta1 = Theta[:hidden_layer_size * input_layer_size].reshape((hidden_layer_size, input_layer_size))\n",
    "    Theta2 = Theta[input_layer_size * hidden_layer_size:].reshape((output_layer_size, hidden_layer_size + 1))\n",
    "    \n",
    "    m = len(y) # training examples\n",
    "    # convert label vector to matrix where each yi is column vector with dimension k * 1\n",
    "    yVec = (np.repeat(np.arange(1, 11)[np.newaxis, :], m, axis = 0) == y) * 1\n",
    "    # Get hypothesis for all training examples using fwd prop\n",
    "    hyp = fwd_propagate(X, Theta1, Theta2)\n",
    "    cost = - (1 / m) * np.sum(np.multiply(yVec, np.log(hyp)) + np.multiply(1 - yVec, np.log(1 - hyp)))\n",
    "    shrinkage = (lambda_ / (2 * m)) * (np.sum(np.square(Theta1[:, 1:])) + np.sum(np.square(Theta2[:, 1:])))\n",
    "    # Add cost and shrinkage penalty\n",
    "    J = cost + shrinkage\n",
    "\n",
    "    return J\n",
    "\n",
    "# implement backpropagation\n",
    "def bck_prop(Theta, X, y, lambda_, input_layer_size, hidden_layer_size, output_layer_size):\n",
    "    '''\n",
    "    Theta: parameters vector\n",
    "    X: feature matrix\n",
    "    y: label vector\n",
    "    lambda_: shrinkage parameter\n",
    "    Return: gradient vector\n",
    "    '''\n",
    "    ## unroll theta vector to the two matrices\n",
    "    Theta1 = Theta[:input_layer_size * hidden_layer_size].reshape((hidden_layer_size, input_layer_size))\n",
    "    Theta2 = Theta[input_layer_size * hidden_layer_size:].reshape((output_layer_size, hidden_layer_size + 1))\n",
    "\n",
    "    ## compute fwd prop\n",
    "    # number of training examples\n",
    "    m = len(y)\n",
    "    a1 = X\n",
    "    z2 = a1.dot(Theta1.T)\n",
    "    a2 = sigmoid(z2)\n",
    "    # add bias unit\n",
    "    a2 = np.insert(a2, 0, np.ones(m), axis = 1)\n",
    "    z3 = a2.dot(Theta2.T)\n",
    "    a3 = sigmoid(z3)\n",
    "\n",
    "    # prepare y\n",
    "    yVec = (np.repeat(np.arange(1, 11)[np.newaxis, :], m, axis = 0) == y) * 1\n",
    "\n",
    "    # compute deltas\n",
    "    delta3 = a3 - yVec\n",
    "    delta2 = np.multiply(delta3.dot(Theta2), np.insert(sigmoid_gradient(z2), 0, np.ones(m), axis = 1))\n",
    "    delta2 = delta2[:, 1:]\n",
    "\n",
    "    # compute gradients\n",
    "    Theta1_grad = (1 / m) * delta2.T.dot(a1)\n",
    "    Theta2_grad = (1 / m) * delta3.T.dot(a2)\n",
    "\n",
    "    # compute regularization\n",
    "    Theta1_reg = (lambda_ / m) * (Theta1[:, 1:])\n",
    "    Theta2_reg = (lambda_ / m) * (Theta2[:, 1:])\n",
    "\n",
    "    # finalize gradients\n",
    "    Theta1_grad[:, 1:] = Theta1_grad[:, 1:] + Theta1_reg\n",
    "    Theta2_grad[:, 1:] = Theta2_grad[:, 1:] + Theta2_reg\n",
    "\n",
    "    return np.concatenate((Theta1_grad.ravel(), Theta2_grad.ravel()))\n",
    "\n",
    "# compute numerical gradients\n",
    "def numericalGradient(X, y, Theta, lambda_, input_layer_size, hidden_layer_size, output_layer_size):\n",
    "    '''\n",
    "    X: feature matrix\n",
    "    y: label vector\n",
    "    Theta: parameters vector\n",
    "    lambda_: shrinkage parameter\n",
    "    Return: Analytical gradient vector\n",
    "    '''\n",
    "    numgrad = np.zeros_like(Theta)\n",
    "    perturb = np.zeros_like(Theta)\n",
    "    epsilon = 1e-4\n",
    "    for i in range(len(Theta)):\n",
    "        perturb[i] = epsilon\n",
    "        loss1 = costFunction(Theta - perturb, X, y, lambda_, input_layer_size, hidden_layer_size, output_layer_size)\n",
    "        loss2 = costFunction(Theta + perturb, X, y, lambda_, input_layer_size, hidden_layer_size, output_layer_size)\n",
    "\n",
    "        numgrad[i] = (loss2 - loss1) / (2 * epsilon)\n",
    "        perturb[i] = 0\n",
    "\n",
    "    return numgrad\n",
    "    \n",
    "# compare analytical and numerical gradients\n",
    "def gradientComparison(gradient, num_gradient):\n",
    "    '''\n",
    "    gradient: gradient vector --> result of back propagation\n",
    "    num_gradient: numerical gradient vector\n",
    "    Return: vector of the the difference between them\n",
    "    '''\n",
    "    return gradient - num_gradient\n",
    "\n",
    "# compute optimal parameters\n",
    "def computeTheta(Theta, X, y, lambda_, input_layer_size, hidden_layer_size, output_layer_size, MaxIter = 50):\n",
    "    '''\n",
    "    Compute the optimal theta\n",
    "    Return: parameters matrices\n",
    "    '''\n",
    "    theta_opt = opt.fmin_cg(f = costFunction, x0 = Theta,\\\n",
    "                                    args = (X, y, lambda_, input_layer_size, hidden_layer_size, output_layer_size),\\\n",
    "                                    fprime = bck_prop, maxiter = MaxIter, disp = 0)\n",
    "    # Reshape Theta Vector\n",
    "    Theta1 = theta_opt[:hidden_layer_size * input_layer_size].reshape((hidden_layer_size, input_layer_size))\n",
    "    Theta2 = theta_opt[input_layer_size * hidden_layer_size:].reshape((output_layer_size, hidden_layer_size + 1))\n",
    "\n",
    "    return Theta1, Theta2\n",
    "\n",
    "# compute predictions\n",
    "def predict(Theta1, Theta2, X):\n",
    "    '''\n",
    "    X: feature matrix\n",
    "    Theta: parameter matrices\n",
    "    '''\n",
    "    a3 = fwd_propagate(X, Theta1, Theta2)\n",
    "    pred = np.argmax(a3, axis= 1) + 1\n",
    "\n",
    "    return pred\n",
    "\n",
    "# compute accuracy\n",
    "def accuracy(predictions, y):\n",
    "    '''\n",
    "    predictions: column vector of hypothesis\n",
    "    y: label variable column vector\n",
    "    Return: accuracy rate --> scalar\n",
    "    '''\n",
    "    m = len(y)\n",
    "    accuracy = np.mean([1 if predictions[i] == y[i] else 0 for i in range(m)])\n",
    "    \n",
    "    return 'accuracy = {:.2f}%'.format(accuracy * 100)"
   ]
  },
  {
   "cell_type": "markdown",
   "metadata": {},
   "source": [
    "Let's get started by inspecting the data set."
   ]
  },
  {
   "cell_type": "code",
   "execution_count": 3,
   "metadata": {},
   "outputs": [
    {
     "data": {
      "text/plain": [
       "((5000, 400), (5000, 1), (25, 401), (10, 26))"
      ]
     },
     "execution_count": 3,
     "metadata": {},
     "output_type": "execute_result"
    }
   ],
   "source": [
    "# load the data\n",
    "data = loadmat('../data/ex4data1.mat')\n",
    "weights = loadmat('../data/ex4weights.mat')\n",
    "y = data['y']\n",
    "X = data['X']\n",
    "Theta1 = weights['Theta1']\n",
    "Theta2 = weights['Theta2']\n",
    "X.shape, y.shape, Theta1.shape, Theta2.shape"
   ]
  },
  {
   "cell_type": "markdown",
   "metadata": {},
   "source": [
    "As we can see above, the Matlab files contain: \n",
    "* $X$: feature matrix with 400 features. Each example is a 20 pixel x 20 pixel grayscale image of the digit. The 20 by 20 grid of pixels is unrolled into 400-dimensional vector $\\rightarrow$ 400 features\n",
    "* $y$: target variable. Note that 0 is 10 in the data for indexing purposes\n",
    "* $m$: 5000 training example\n",
    "* $\\Theta^1$: first parameter matrix is 25 x 401 which is hidden layer size x (input layer size + 1)\n",
    "* $\\Theta^2$: second parameter matrix is 10 x 26 which is output layer size x (hidden layer size + 1)\n",
    "\n",
    "Below is all the uniques classes in the target variable as well as an example of 20 random training examples."
   ]
  },
  {
   "cell_type": "code",
   "execution_count": 4,
   "metadata": {},
   "outputs": [
    {
     "name": "stdout",
     "output_type": "stream",
     "text": [
      "unique classes: [1, 2, 3, 4, 5, 6, 7, 8, 9, 10]\n"
     ]
    },
    {
     "data": {
      "image/png": "[encoded data removed]",
      "text/plain": [
       "<matplotlib.figure.Figure at 0x1072a2f98>"
      ]
     },
     "metadata": {},
     "output_type": "display_data"
    }
   ],
   "source": [
    "# print the unique classes\n",
    "num_classes = len(np.unique(y))\n",
    "print('unique classes: {}'.format(list(np.unique(y))))\n",
    "# show a sample of 20 images of digits\n",
    "sample = np.random.choice(X.shape[0], 20)\n",
    "plt.imshow(X[sample, :].reshape(-1, 20).T)\n",
    "plt.axis('off');"
   ]
  },
  {
   "cell_type": "markdown",
   "metadata": {},
   "source": [
    "Below are all the equations regarding our Neural Network classification problem:\n",
    "\n",
    "The hypothesis function is:\n",
    "$$P(y^i = 1/x^i,\\theta) = h_\\theta(x^i) = \\frac {1} {1+ \\exp^{-\\theta^{T}x^i}}$$\n",
    "The cost function will be:\n",
    "$$J(\\Theta) = - \\frac {1} {m} \\sum_{i = 1}^{m} \\sum_{k = 1}^{K}\\Big\\{ y^i_k log(h_\\theta(x^i))_k + (1 - y^i_k)log(1 - h_\\theta(x^i))_k\\Big\\} + \\frac {\\lambda} {2m} \\sum_{l = 1}^{L - 1} \\sum_{i = 1}^{s_l} \\sum_{j = 1}^{s_{l + 1}} (\\Theta_{ji}^l)^2$$\n",
    "\n",
    "Since regularization doesn't get applied on the bias unit; therefore:\n",
    "* $\\Theta^1$ dimension is 25 x 400 instead of 25 x 401\n",
    "* $\\Theta^2$ dimension is 10 x 25 instead of 10 x 26\n",
    "    \n",
    "The gradients will be:$$\\Delta_{ij}^l = a_j^l * \\delta_i^{l + 1}$$\n",
    "\n",
    "$$D_{ij}^l = \\frac{1}{m}\\Delta_{ij}^l + \\frac{\\lambda}{m}\\Theta_{ij}^l\\quad if\\,j \\neq 0$$ since we don't apply regularization on the bias unit.\n",
    "\n",
    "$$D_{ij}^l = \\frac{1}{m}\\Delta_{ij}^l \\quad\\quad\\quad\\quad if\\,j = 0$$"
   ]
  },
  {
   "cell_type": "code",
   "execution_count": 5,
   "metadata": {},
   "outputs": [
    {
     "data": {
      "text/plain": [
       "(5000, (5000, 401), 401, 10)"
      ]
     },
     "execution_count": 5,
     "metadata": {},
     "output_type": "execute_result"
    }
   ],
   "source": [
    "# Set up some global variables\n",
    "m = len(y)\n",
    "# add bias to the feature matrix\n",
    "X = np.insert(X, 0, np.ones(m), axis = 1)\n",
    "input_layer_size = X.shape[1]\n",
    "hidden_layer_size = 25\n",
    "output_layer_size = len(np.unique(y))\n",
    "m, X.shape, input_layer_size, output_layer_size"
   ]
  },
  {
   "cell_type": "markdown",
   "metadata": {},
   "source": [
    "<h2 style=\"font-family: Georgia; font-size:1.5em;color:purple; font-style:bold\">\n",
    "Sigmoid function and It's derivative\n",
    "</h2><br>\n",
    "$$sigmoid(z) = g(z) = \\frac {1}{1 + e^{-z}}$$\n",
    "$$g^{'}(z) = \\frac {e^{-z}}{1 + e^{-z}} = g(z)(1 - g(z))$$\n",
    "For large absolute values of z, the gradinet is close to 0. When z = 0, the gradient is 0.25."
   ]
  },
  {
   "cell_type": "code",
   "execution_count": 6,
   "metadata": {},
   "outputs": [
    {
     "data": {
      "image/png": "[encoded data removed]",
      "text/plain": [
       "<matplotlib.figure.Figure at 0x10662ba58>"
      ]
     },
     "metadata": {},
     "output_type": "display_data"
    }
   ],
   "source": [
    "# plotting both sigmoid fn and its derivative\n",
    "from matplotlib.patches import Ellipse\n",
    "el = Ellipse((2, -1), 0.5, 0.5)\n",
    "z = np.linspace(-10, 10, 100)\n",
    "plt.plot(z, sigmoid(z))\n",
    "plt.plot(z, sigmoid_gradient(z))\n",
    "plt.xlabel('z')\n",
    "plt.annotate('',\n",
    "             xy = (-7.5, 0), xytext = (-2.5, 0.6),\n",
    "             arrowprops=dict(arrowstyle=\"fancy\", fc='green', ec=\"none\", patchB=el,\n",
    "                            connectionstyle=\"angle3,angleA=0,angleB=-90\", facecolor='green'))\n",
    "plt.annotate('Derivative is zero at tails',\n",
    "             xy = (7.5, 0), xytext = (-2.5, 0.6),\n",
    "             arrowprops=dict(arrowstyle=\"fancy\", fc='green', ec=\"none\", patchB=el,\n",
    "                            connectionstyle=\"angle3,angleA=0,angleB=-90\", facecolor='green'), fontsize = 14)\n",
    "plt.title('Sigmoid function vs its derivative', fontsize = 14);"
   ]
  },
  {
   "cell_type": "markdown",
   "metadata": {},
   "source": [
    "<h2 style=\"font-family: Georgia; font-size:1.5em;color:purple; font-style:bold\">\n",
    "Random Initialization\n",
    "</h2><br>\n",
    "When training neural networks, it's very important to not assign the parameters in $\\Theta^ls$ the same values when initializing those matrices such as assigning them zeros because all updates and gradients will be the same on every iteration and our learning algorithm won't learn anything. Therefore, it's important to randomly initialize the parameters to break symmetry. One good strategy is to randomly select values for $\\Theta^l$ uniformly in the range $[-\\epsilon_{init}, \\epsilon_{init}]$. A good choice of $\\epsilon_{init}$ is $\\epsilon_{init} = \\frac{\\sqrt{6}}{\\sqrt{L_{in} + L_{out}}}$ where $L_{in}$ is *incoming connection* and $L_{out}$ is outgoing connection. As shiwn below, both theta matrices are within the $[-\\epsilon_{init}, \\epsilon_{init}]$ range. So we're good to go!"
   ]
  },
  {
   "cell_type": "code",
   "execution_count": 7,
   "metadata": {},
   "outputs": [
    {
     "name": "stdout",
     "output_type": "stream",
     "text": [
      "(25, 401) (10, 26)\n",
      "-0.118671389059 0.118668118611\n",
      "-0.404891451248 0.405527447113\n"
     ]
    }
   ],
   "source": [
    "Theta1_init, Theta2_init = random_initialize_Thetas(input_layer_size, hidden_layer_size, output_layer_size)\n",
    "print(Theta1_init.shape, Theta2_init.shape)\n",
    "print(np.min(Theta1_init), np.max(Theta1_init))\n",
    "print(np.min(Theta2_init), np.max(Theta2_init))"
   ]
  },
  {
   "cell_type": "markdown",
   "metadata": {},
   "source": [
    "<h2 style=\"font-family: Georgia; font-size:1.5em;color:purple; font-style:bold\">\n",
    "Numerical gradient checking\n",
    "</h2><br>\n",
    "Before implementing the neural network, it's a good practice to check if our *backpropagation* implementation is correct. To do this, we'll first initialize $\\Theta^1$ and $\\Theta^2$ and we did that above. Next, calculate the gradients from our backpropagation implementation and compare it with *analytical gradient*. We can numerically check gradients is by using two-sided $\\epsilon$.\n",
    "$$Let \\quad \\Theta^{i+} = \\Theta + \\begin{bmatrix}0\\\\0\\\\\\vdots\\\\\\epsilon\\\\\\vdots\\\\0 \\end{bmatrix};\\quad \\Theta^{i-} = \\Theta - \\begin{bmatrix}0\\\\0\\\\\\vdots\\\\\\epsilon\\\\\\vdots\\\\0 \\end{bmatrix}$$\n",
    "\n",
    "$$\\Rightarrow \\quad f_i(\\Theta) = \\frac{\\partial}{\\partial\\Theta_i}J(\\Theta)  = \\frac{J(\\Theta + \\epsilon) - J(\\Theta - \\epsilon)}{2\\epsilon}$$\n",
    "Using $\\epsilon = 10^{-4}$ (which is a good value to assume), **the relative difference between our gradient unrolled vector and numerical gradient vector will be less than $1e^{-9}$ if our backpropagation is correct**.\n",
    "\n",
    "As the results below confirms, the biggest defference between numerical gradients and gradients from our backpropagation implementation is close to $1e^{-10}$ which is less than $1e^{-9}$. Therefore, our backpropagation implementation is correct."
   ]
  },
  {
   "cell_type": "code",
   "execution_count": 8,
   "metadata": {},
   "outputs": [
    {
     "data": {
      "text/plain": [
       "(-1.2545917082995572e-10, 1.1025047541579625e-10)"
      ]
     },
     "execution_count": 8,
     "metadata": {},
     "output_type": "execute_result"
    }
   ],
   "source": [
    "# Unroll initialized thetas into a vector\n",
    "Theta_init = np.concatenate((Theta1_init.ravel(), Theta2_init.ravel()))\n",
    "grad = bck_prop(Theta_init, X, y, 1, input_layer_size, hidden_layer_size, output_layer_size)\n",
    "num_grad = numericalGradient(X, y, Theta_init, 1, input_layer_size, hidden_layer_size, output_layer_size)\n",
    "diff = gradientComparison(grad, num_grad)\n",
    "np.min(diff), np.max(diff)"
   ]
  },
  {
   "cell_type": "markdown",
   "metadata": {},
   "source": [
    "<h2 style=\"font-family: Georgia; font-size:1.5em;color:purple; font-style:bold\">\n",
    "Backpropagation and Learning Parameters\n",
    "</h2><br>\n",
    "The intuition behind backpropagation is as follows:\n",
    "1. For each training example $(x^i, y^i)$, we'll do forward propagation and compute the output layer which is $h_\\Theta(x)$\n",
    "2. Calculate for each node $j$ in layer $l$ the error term $\\delta_j^l$ that measures how much that node is responsible for the errors in the output node. $\\delta_j^l$ in hidden layers can be thought of as the weighted average of error term of the nodes in layer $(l + 1)$.\n",
    "The cost function for the current problem is:\n",
    "$$J(\\Theta) = - \\frac {1} {5000} \\sum_{i = 1}^{5000} \\sum_{k = 1}^{10}\\Big\\{ y^i_k log(h_\\theta(X^i))_k + (1 - y^i_k)log(1 - h_\\theta(X^i))_k\\Big\\} + \\frac {\\lambda} {10000} \\Big\\{\\sum_{i = 1}^{25} \\sum_{j = 1}^{400} (\\Theta_{ji}^1)^2 + \\sum_{i = 1}^{10} \\sum_{j = 1}^{25} (\\Theta_{ji}^2)^2\\Big\\}$$"
   ]
  },
  {
   "cell_type": "code",
   "execution_count": 9,
   "metadata": {},
   "outputs": [
    {
     "name": "stdout",
     "output_type": "stream",
     "text": [
      "Using lambda = 0:  accuracy = 100.00%\n",
      "Using lambda = 1:  accuracy = 99.40%\n"
     ]
    }
   ],
   "source": [
    "# Trying two values for lambda: 0.1, 1\n",
    "theta1_opt_0, theta2_opt_0 = computeTheta(Theta_init, X, y, 0.1, input_layer_size, hidden_layer_size, output_layer_size, 250)\n",
    "theta1_opt_1, theta2_opt_1 = computeTheta(Theta_init, X, y, 1, input_layer_size, hidden_layer_size, output_layer_size, 250)\n",
    "pred_0 = predict(theta1_opt_0, theta2_opt_0, X)\n",
    "pred_1 = predict(theta1_opt_1, theta2_opt_1, X)\n",
    "print('Using lambda = 0: ', accuracy(pred_0, y))\n",
    "print('Using lambda = 1: ', accuracy(pred_1, y))"
   ]
  },
  {
   "cell_type": "markdown",
   "metadata": {},
   "source": [
    "As indicated above, the accuracy rate is $100\\%$ when $\\lambda = 0.1$ and $99.4\\%$ when $\\lambda = 1$. Of course this is the training accuracy rate which is higher than test accuracy rate and it's obvious that our learning algorithm suffers from overfitting. We can change the values of $\\lambda$ to avoid overfitting by increasing it."
   ]
  },
  {
   "cell_type": "markdown",
   "metadata": {
    "collapsed": true
   },
   "source": [
    "<h2 style=\"font-family: Georgia; font-size:1.5em;color:purple; font-style:bold\">\n",
    "Conclusion\n",
    "</h2><br>\n",
    "* Choose the **Neural Network** architecture. That is, pick how many hidden layers we want and within each hidden layer how many activation units (nodes) we want. The more the layers and nodes $\\rightarrow$ the deeper the network is $\\rightarrow$ more complex and computationally expensive and may overfit the data; however, it may give us better accuracy.\n",
    "* Initialize theta (parameters) matrices by randomly assigning values to $\\theta_{ij}^l$ using the following formula:\n",
    "$$\\epsilon_{init} = \\frac{\\sqrt{6}}{\\sqrt{L_{in} + L_{out}}}$$\n",
    "$$\\Theta^l = random(L_{in} + L_{out}) * 2 * epsilon_{init} - epsilon_{init}$$\n",
    "    Where $L_{in}$ is layer size of incoming connection and $L_{out}$ is layer size of outgoing connection.\n",
    "    * This will gurantee that $\\Theta^l$ will be uniformly distributed in the range $[-\\epsilon_{init}, \\epsilon_{init}]$\n",
    "    * Also, this will break the symmetry that may happen if we assign all $\\Theta$'s the same value such as zero or $\\Theta^l$ at each layer to have the same value. Having symmetry will always result in the same update and our learning algorithm won't be able to learn anything because all gradients will be the same\n",
    "* Compare the results of the difference of gradients from the backpropagation and numerical gradients. The difference should be less than $1e^{-10}$. Doing this will give us an indication of whether our backpropagation implementation is correct.\n",
    "* Turn off gradient checking because it's very slow process and will add the nothing to our model\n",
    "* Use the initialized thetas to calculate all activation layers and the output.\n",
    "* Backpropagate to get all the gradients\n",
    "* Update the initialized theta with gradients we got and the process would continue until we find a local optimum\n",
    "* Note that the cost function is no longer convex $\\rightarrow$ the optimization algorithm such *Gradient Descent* may stuck in a local minimum and not be able to find global minimum. However, this is not a real issue in practice."
   ]
  }
 ],
 "metadata": {
  "kernelspec": {
   "display_name": "Python 3",
   "language": "python",
   "name": "python3"
  },
  "language_info": {
   "codemirror_mode": {
    "name": "ipython",
    "version": 3
   },
   "file_extension": ".py",
   "mimetype": "text/x-python",
   "name": "python",
   "nbconvert_exporter": "python",
   "pygments_lexer": "ipython3",
   "version": "3.6.2"
  }
 },
 "nbformat": 4,
 "nbformat_minor": 2
}
