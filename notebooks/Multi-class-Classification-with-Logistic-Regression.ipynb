{
 "cells": [
  {
   "cell_type": "markdown",
   "metadata": {},
   "source": [
    "<h1 style=\"font-family: Georgia; font-size:3em;color:#2462C0; font-style:bold\">\n",
    "Multi-class Classification with Logistic Regression\n",
    "</h1><br>\n",
    "\n",
    "For this exercise we'll use logistic regression to recognize hand-written digits (0 to 9). The recognition of hand-written digits is a multi-class classification problem with $k = 10$ classes, i.e $y^i \\in \\{1, 2, 3, ..., 10\\}$. As a result, to use logistic regression, we have to fit 10 classifiers using  **one-vs-all** technique. Therefore, for each class we'll build a classifier where that class would be the *positive* class and all other classes would be the *negative* class. After fitting the 10 classifiers, we use the 10 models in predicting each training example $x^i$ and pick the class that has the highest probability from those 10 models; i.e would end up with column vector $h_\\theta(x^i) \\in \\mathbb{R}^k$.\n",
    "\n",
    "Let's get started by imporitng the required libraries."
   ]
  },
  {
   "cell_type": "code",
   "execution_count": 1,
   "metadata": {
    "collapsed": true
   },
   "outputs": [],
   "source": [
    "# Import libraries and set up notebook global style\n",
    "import pandas as pd\n",
    "import numpy as np\n",
    "import matplotlib.pyplot as plt\n",
    "import seaborn as sns\n",
    "from scipy.io import loadmat, whosmat # load Matlab files and inspect objects in those files before loading them\n",
    "import scipy.optimize as opt\n",
    " \n",
    "\n",
    "%matplotlib inline\n",
    "sns.set_context('notebook')\n",
    "plt.style.use('fivethirtyeight');"
   ]
  },
  {
   "cell_type": "markdown",
   "metadata": {},
   "source": [
    "<h2 style=\"font-family: Georgia; font-size:2em;color:purple; font-style:bold\">\n",
    "Functions\n",
    "</h2><br>\n",
    "We'll write the functions needed to solve regularized logistic regression and implement Neural Network."
   ]
  },
  {
   "cell_type": "code",
   "execution_count": 2,
   "metadata": {
    "collapsed": true
   },
   "outputs": [],
   "source": [
    "# Define sigmoid fn\n",
    "def sigmoid(z):\n",
    "    return 1 / (1 + np.exp(-z))\n",
    "\n",
    "\n",
    "# Compute cost of regularized logistic regression\n",
    "def cost_reg(theta, X, y, lambda_):\n",
    "    '''\n",
    "    theta: parameters array\n",
    "    X: features matrix m x (n + 1)\n",
    "    y: target variable column vector m x 1\n",
    "    lambda: shrinkage parameter --> scalar\n",
    "    Return: cost with shrinkage penalty added --> scalar\n",
    "    '''\n",
    "    theta = theta.reshape(-1, 1)\n",
    "    m = y.shape[0]\n",
    "    \n",
    "    z = X.dot(theta)\n",
    "    hyp = sigmoid(z) # hypothesis\n",
    "    error = np.multiply(y, np.log(hyp)) + np.multiply(1 - y, np.log(1 - hyp))\n",
    "    shrinkage_penalty = (lambda_ /(2 * m)) * (np.power(theta[1:, :], 2))\n",
    "    cost = - (1 / m) * np.sum(error) + np.sum(shrinkage_penalty)\n",
    "    \n",
    "    return cost\n",
    "\n",
    "\n",
    "# Compute the gradients of regularized logistic regression\n",
    "def gradient_reg(theta, X, y, lambda_):\n",
    "    '''\n",
    "    theta: parameters array\n",
    "    X: features matrix m x (n + 1)\n",
    "    y: target variable column vector m x 1\n",
    "    lambda: shrinkage parameter --> scalar\n",
    "    Return: gradient array\n",
    "    '''\n",
    "    theta = theta.reshape(-1, 1)\n",
    "    m = y.shape[0]\n",
    "    \n",
    "    z = X.dot(theta)\n",
    "    hyp = sigmoid(z)\n",
    "    error = hyp - y\n",
    "    grad = (1 / m) * (X.T.dot(error))\n",
    "    grad[1:, :] = grad[1:, :] + (lambda_ / m) * theta[1:, :]\n",
    "    \n",
    "    return grad.ravel()\n",
    "\n",
    "\n",
    "# Define one-vs-all k classifier\n",
    "def one_vs_all(X, y, num_classes, lambda_):\n",
    "    '''\n",
    "    X: features matrix m x (n + 1)\n",
    "    y: target variable column vector m x 1\n",
    "    num_classes: scalar; number of classes at hand\n",
    "    lambda: shrinkage parameter --> scalar\n",
    "    Return: theta matrix k x (n + 1) where each row is a classifier and each column is a featute.\n",
    "            i.e. each cell is a fauture weight for the classifier on the same row.\n",
    "    '''\n",
    "    # Initializes zero theta parameter and theta matrix\n",
    "    init_theta = np.zeros(X.shape[1])\n",
    "    \n",
    "    # Theta matrix will store theta parameters for all k models\n",
    "    theta_matrix = np.zeros((num_classes, X.shape[1]))\n",
    "    \n",
    "    for i in range(1, num_classes + 1):\n",
    "        # Would be 1 for the i class and 0 for all ther classes i.e one-vs-all\n",
    "        y_i = (y == i) * 1 \n",
    "        \n",
    "        # Compute theta\n",
    "        result = opt.fmin_tnc(\n",
    "            func = cost_reg, x0=init_theta, args=(X, y_i, lambda_), fprime=gradient_reg)\n",
    "        \n",
    "        # Store theta parameters array in theta matrix\n",
    "        theta_matrix[i - 1] = result[0]\n",
    "    \n",
    "    return theta_matrix\n",
    "\n",
    "\n",
    "# Define predict fn for one-vs-all\n",
    "def predict_one_vs_all(theta, X):\n",
    "    '''\n",
    "    X: features matrix m x (n + 1)\n",
    "    theta: theta matrix k x (n + 1\n",
    "    Return: predictions column vector m x 1\n",
    "    '''\n",
    "    pred = X.dot(theta.T) # will leave us with matrix m * k where each column represents\n",
    "                         # the probability that the ith example belong to that class.\n",
    "    hyp = sigmoid(pred)\n",
    "    pred = (pred.argmax(axis = 1) + 1) # it will give us the index of the highest probability\n",
    "                                      # per row (column index) which will allow us to assign\n",
    "                                      # the class for the training example\n",
    "    return pred.reshape(-1, 1)\n",
    "\n",
    "\n",
    "# Define accuracy fn\n",
    "def accuracy(predictions, y):\n",
    "    '''\n",
    "    predictions: predictions' class\n",
    "    y: Actual class for each m examples --> m x 1 column vector\n",
    "    Return: Accuracy rate --> scalar\n",
    "    '''\n",
    "    accuracy = np.mean(predictions == y)\n",
    "    \n",
    "    return f\"accuracy = {accuracy * 100:.2f}%\""
   ]
  },
  {
   "cell_type": "markdown",
   "metadata": {},
   "source": [
    "<h2 style=\"font-family: Georgia; font-size:2em;color:purple; font-style:bold\">\n",
    "Regularized Logistic Regression: Multi-class Classification\n",
    "</h2><br>\n",
    "Below is a refresher from logistic regression notebook.\n",
    "\n",
    "The hypothesis function is:\n",
    "$$P(y^i = 1/X,\\theta) = h_\\theta(X^i) = \\frac {1} {1+ \\exp^{-\\theta^{T}X^i}}$$\n",
    "\n",
    "$$\\Rightarrow\\Big(\\frac {P(y^i = 1/X,\\theta)} {1 - P(y^i = 1/X,\\theta)}\\Big) = \\exp^{\\theta^{T}X^i}$$\n",
    "\n",
    "$$\\Rightarrow log\\Big(\\frac {P(y^i = 1/X,\\theta)} {1 - P(y^i = 1/X,\\theta)}\\Big) = {\\theta^{T}X^i}$$\n",
    "\n",
    "The cost function will be:\n",
    "$$J(\\theta) = - \\frac {1} {m} \\sum_{i = 1}^{m} \\big\\{ y^ilog(h_\\theta(X^i)) + (1 - y^i)log(1 - h_\\theta(X^i))\\big\\} + \\frac {\\lambda} {2m} \\sum_{j = 1}^{n}\\theta_j^2$$\n",
    "Since we don't apply the regularization on the bias (intercept); therefore, we'll have two update equations for the gradient descent algorithm:\n",
    "$$\\theta_0 = \\theta_0 - \\alpha\\sum_{i = 1}^{m} (h_\\theta(X^i) - y^i)x_0^i$$\n",
    "$$\\theta_j = \\theta_j(1 - \\alpha\\frac{\\lambda}{m}) - \\alpha\\sum_{i = 1}^{m} (h_\\theta(X^i) - y^i)x_j^i\\quad;\\,j = 1, 2 , ..., n$$\n",
    "\n",
    "Finally, since it's *one-vs-all* classification, we'll have k hypothesis for each example:\n",
    "Train a logistic regression classifier $h_\\theta^i(X)$ for each class $i$ to predict the probability that $y = i$."
   ]
  },
  {
   "cell_type": "code",
   "execution_count": 3,
   "metadata": {},
   "outputs": [
    {
     "name": "stdout",
     "output_type": "stream",
     "text": [
      "The unique classes we have: [ 1  2  3  4  5  6  7  8  9 10]\n",
      "Below is a sample of 20 images of the digits we have:\n"
     ]
    },
    {
     "data": {
      "image/png": "[encoded data removed]",
      "text/plain": [
       "<matplotlib.figure.Figure at 0x112ff8400>"
      ]
     },
     "metadata": {},
     "output_type": "display_data"
    }
   ],
   "source": [
    "# Load data\n",
    "data = loadmat('../data/ex3data1.mat')\n",
    "y = data['y']\n",
    "X = data['X']\n",
    "\n",
    "# Get the number of classes we have using unique method\n",
    "num_classes = len(np.unique(y))\n",
    "print(f\"The unique classes we have: {np.unique(y)}\")\n",
    "\n",
    "# randomly select 20 images to show them\n",
    "sample = np.random.choice(X.shape[0], 20)\n",
    "print(\"Below is a sample of 20 images of the digits we have:\")\n",
    "plt.imshow(X[sample, :].reshape(-1, 20).T)\n",
    "plt.axis('off');"
   ]
  },
  {
   "cell_type": "markdown",
   "metadata": {},
   "source": [
    "The Matlab file contains two objects: \n",
    "* $X$: feature matrix with 400 features. Each example is a 20 pixels x 20 pixels image $\\rightarrow$ 400 features.\n",
    "* $y$: target variable. Note that 0 is 10 in the data for indexing purposes.\n",
    "* $m = 5000$ training example."
   ]
  },
  {
   "cell_type": "code",
   "execution_count": 4,
   "metadata": {},
   "outputs": [
    {
     "data": {
      "text/plain": [
       "'accuracy = 96.46%'"
      ]
     },
     "execution_count": 4,
     "metadata": {},
     "output_type": "execute_result"
    }
   ],
   "source": [
    "# Adding columns of ones for the intercept\n",
    "X = np.insert(X, 0, np.ones(X.shape[0]), axis=1)\n",
    "\n",
    "# Run the OneVsAll to get all models\n",
    "lambda_ = 0.1\n",
    "all_theta = one_vs_all(X, y, num_classes, lambda_)\n",
    "\n",
    "# Predict the training examples class\n",
    "pred = predict_one_vs_all(all_theta, X)\n",
    "accuracy(pred, y)"
   ]
  },
  {
   "cell_type": "markdown",
   "metadata": {},
   "source": [
    "The accuracy of using 10 clasifiers is close to 96.46%. We could've tried adding some non-linearities to the model as well as tuning the hyperparameter $\\lambda$ using cross validation to get the most out of the logistic regression model."
   ]
  },
  {
   "cell_type": "markdown",
   "metadata": {},
   "source": [
    "<h2 style=\"font-family: Georgia; font-size:2em;color:purple; font-style:bold\">\n",
    "Conclusion\n",
    "</h2><br>\n",
    "A few takeaway points:\n",
    "* We didn't tune shrinkage parameter to pick the soft spot of *bias-variance* trade-off that may've helped us in improving the accuracy rate.\n",
    "    * We could've also add non-linearity to the features but it may become very complex so fast since adding $2^{nd}$ degree polynomial will grow at ${O}(n^2)$."
   ]
  }
 ],
 "metadata": {
  "kernelspec": {
   "display_name": "Python 3",
   "language": "python",
   "name": "python3"
  },
  "language_info": {
   "codemirror_mode": {
    "name": "ipython",
    "version": 3
   },
   "file_extension": ".py",
   "mimetype": "text/x-python",
   "name": "python",
   "nbconvert_exporter": "python",
   "pygments_lexer": "ipython3",
   "version": "3.6.3"
  }
 },
 "nbformat": 4,
 "nbformat_minor": 2
}
